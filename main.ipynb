{
 "cells": [
  {
   "cell_type": "code",
   "execution_count": 1,
   "metadata": {},
   "outputs": [
    {
     "name": "stdout",
     "output_type": "stream",
     "text": [
      "as\n"
     ]
    }
   ],
   "source": [
    "import time\n",
    "import pyautogui\n",
    "print(\"as\")\n",
    "def click_img(img: str, **kwargs):\n",
    "    # 可変長引数を代入\n",
    "    sleep_time = kwargs.pop('sleep_time', 0.01)  # クリック後の待機時間\n",
    "    offset_x = kwargs.pop('offset_x', 0)         # 画像認識した座標とクリック座標をx方向にオフセット\n",
    "    offset_y = kwargs.pop('offset_y', 0)         # 画像認識した座標とクリック座標をy方向にオフセット\n",
    "    click_lr = kwargs.pop('click_lr', 'left')    # 左クリックor右クリック\n",
    "    gray_scale = kwargs.pop('gray_scale', True)  # 画像認識時のグレースケールONOFF\n",
    "    confidence = kwargs.pop('confidence', 0.8)   # 画像認識時の判定度合い\n",
    "    \n",
    "    print(f\"Trying to locate image\")\n",
    "    coords = pyautogui.locateCenterOnScreen('C:/Users/motomae tougo/Desktop/LoL automatch/match4.png', grayscale=gray_scale, confidence=confidence)\n",
    "    if coords is None:\n",
    "        print(\"Image not found on screen.\")\n",
    "        return\n",
    "    \n",
    "    # 画像の座標を代入\n",
    "    x, y = pyautogui.locateCenterOnScreen(f'C:/Users/motomae tougo/Desktop/LoL automatch/match4.png', grayscale=gray_scale, confidence=confidence)\n",
    "    # 座標をクリック\n",
    "    pyautogui.click(x + offset_x, y + offset_y, button=click_lr)\n",
    "    print(\"Click!\")\n",
    "    # 指定時間の待機\n",
    "    time.sleep(sleep_time)"
   ]
  },
  {
   "cell_type": "code",
   "execution_count": null,
   "metadata": {},
   "outputs": [],
   "source": [
    "def wait_img(*args, **kwargs):\n",
    "    # 可変長引数を代入\n",
    "    wait_limit = kwargs.pop('wait_limit', 1000) * 5  # 待機時間（int）\n",
    "    gray_scale = kwargs.pop('gray_scale', True)    # 画像認識時のグレースケールONOFF\n",
    "    confidence = kwargs.pop('confidence', 0.5)     # 画像認識時の判定度合い\n",
    "    # 待機時間ループ\n",
    "    for _ in range(wait_limit):\n",
    "        # 複数画像設定時のループ\n",
    "        for img in args:\n",
    "            try:\n",
    "                # 画像認識に成功すればget_imgを定義\n",
    "                if pyautogui.locateOnScreen(f'C:/Users/motomae tougo/Desktop/LoL automatch/match4.png', grayscale=gray_scale, confidence=confidence):\n",
    "                    get_img = img\n",
    "                    break\n",
    "            except pyautogui.ImageNotFoundException:\n",
    "                pass\n",
    "        # get_imgが定義されていればreturnでループ脱出\n",
    "        if 'get_img' in locals():\n",
    "            print(\"Found\")\n",
    "            return get_img\n",
    "        # returnで脱出するまで0.2秒待機を続ける\n",
    "        time.sleep(0.2)"
   ]
  },
  {
   "cell_type": "code",
   "execution_count": null,
   "metadata": {},
   "outputs": [
    {
     "name": "stdout",
     "output_type": "stream",
     "text": [
      "Found\n",
      "Trying to locate image\n",
      "Found\n",
      "Trying to locate image\n",
      "Found\n",
      "Trying to locate image\n",
      "Found\n",
      "Trying to locate image\n",
      "Found\n",
      "Trying to locate image\n",
      "Found\n",
      "Trying to locate image\n",
      "Found\n",
      "Trying to locate image\n",
      "Found\n",
      "Trying to locate image\n",
      "Found\n",
      "Trying to locate image\n",
      "Found\n",
      "Trying to locate image\n",
      "Found\n",
      "Trying to locate image\n",
      "Found\n",
      "Trying to locate image\n",
      "Found\n",
      "Trying to locate image\n",
      "Found\n",
      "Trying to locate image\n",
      "Found\n",
      "Trying to locate image\n",
      "Found\n",
      "Trying to locate image\n",
      "Found\n",
      "Trying to locate image\n",
      "Found\n",
      "Trying to locate image\n"
     ]
    }
   ],
   "source": [
    "while True:\n",
    "    try:\n",
    "        wait_img('C:/Users/motomae tougo/Desktop/LoL automatch/match4.png')\n",
    "        \n",
    "        # 画像認識で取得した座標のx:+10px, y:235pxの位置を右クリックして、1秒待機\n",
    "        click_img('C:/Users/motomae tougo/Desktop/LoL automatch/match4.png', offset_x=10, offset_y=235, sleep_time=1, click_lr='left')\n",
    "    except pyautogui.ImageNotFoundException:\n",
    "        continue"
   ]
  },
  {
   "cell_type": "code",
   "execution_count": null,
   "metadata": {},
   "outputs": [],
   "source": [
    "def click_img(img_path, offset_x=0, offset_y=0, sleep_time=0.01, click_lr='left', gray_scale=True, confidence=0.8):\n",
    "    print(f\"Trying to locate image: {'C:/Users/motomae tougo/Desktop/LoL automatch/match4.png'}\")\n",
    "    coords = pyautogui.locateCenterOnScreen(img_path, grayscale=gray_scale, confidence=confidence)\n",
    "    if coords is None:\n",
    "        print(\"Image not found on screen.\")\n",
    "        return\n",
    "    x, y = coords\n",
    "    pyautogui.click(x + offset_x, y + offset_y, button=click_lr)\n",
    "    time.sleep(sleep_time)\n",
    "    \n",
    "    "
   ]
  },
  {
   "cell_type": "code",
   "execution_count": null,
   "metadata": {},
   "outputs": [],
   "source": [
    "# 画像認識で取得した座標を左クリックして0.01秒待機\n",
    "click_img('C:/Users/motomae tougo/Desktop/LoL automatch/match4.png')\n"
   ]
  },
  {
   "cell_type": "code",
   "execution_count": null,
   "metadata": {},
   "outputs": [],
   "source": [
    "def click_img(img_path, offset_x=0, offset_y=0, sleep_time=0.01, click_lr='left', gray_scale=True, confidence=0.8):\n",
    "    print(f\"Trying to locate image: {'C:/Users/motomae tougo/Desktop/LoL automatch/match4.png'}\")\n",
    "    coords = pyautogui.locateCenterOnScreen(img_path, grayscale=gray_scale, confidence=confidence)\n",
    "    if coords is None:\n",
    "        print(\"Image not found on screen.\")\n",
    "        return\n",
    "    x, y = coords\n",
    "    pyautogui.click(x + offset_x, y + offset_y, button=click_lr)\n",
    "    time.sleep(sleep_time)\n",
    "\n"
   ]
  }
 ],
 "metadata": {
  "kernelspec": {
   "display_name": "Python 3",
   "language": "python",
   "name": "python3"
  },
  "language_info": {
   "codemirror_mode": {
    "name": "ipython",
    "version": 3
   },
   "file_extension": ".py",
   "mimetype": "text/x-python",
   "name": "python",
   "nbconvert_exporter": "python",
   "pygments_lexer": "ipython3",
   "version": "3.9.6"
  }
 },
 "nbformat": 4,
 "nbformat_minor": 2
}
